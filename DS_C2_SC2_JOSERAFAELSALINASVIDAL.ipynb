{
  "nbformat": 4,
  "nbformat_minor": 0,
  "metadata": {
    "colab": {
      "provenance": []
    },
    "kernelspec": {
      "name": "python3",
      "display_name": "Python 3"
    },
    "language_info": {
      "name": "python"
    }
  },
  "cells": [
    {
      "cell_type": "markdown",
      "source": [
        "Para completar la solución del reto deberás cumplir con todos los puntos listados a continuación:  "
      ],
      "metadata": {
        "id": "RLW4SZkrPJaX"
      }
    },
    {
      "cell_type": "markdown",
      "source": [
        "a. Extraer la información del archivo. "
      ],
      "metadata": {
        "id": "bikg6e2aO7Ph"
      }
    },
    {
      "cell_type": "code",
      "source": [
        "#Extracción de dataframes para visualizar vacunas por compañia y vacunas aplicadas desde Kaggle\n",
        "#Para extraer los datos usamos el framework de pandas y utilizamos \".read_csv\" para leer el data frame con el que trabajaremos se usa \".head\" para visualizar los primeros 5 registros\n",
        "import pandas as pd\n",
        "vacunas_pais= pd.read_csv(\"/content/drive/MyDrive/Colab Notebooks/country_vaccinations.csv\")\n",
        "vacunas_manu= pd.read_csv(\"/content/drive/MyDrive/Colab Notebooks/country_vaccinations_by_manufacturer.csv\")\n",
        "\n",
        "print(vacunas_manu.head(5))"
      ],
      "metadata": {
        "id": "zzesIoBgPPv8"
      },
      "execution_count": null,
      "outputs": []
    },
    {
      "cell_type": "markdown",
      "source": [
        "b. Mostrar la estructura y tipos de datos de cada columna para identificar qué operaciones puedes realizar con cada una de ellas, asegurándote que las columnas con fechas sean del tipo datetime64. "
      ],
      "metadata": {
        "id": "o5cIx8tGR_6p"
      }
    },
    {
      "cell_type": "code",
      "source": [
        "#Se entiende por estructura a las series que componen el data frame; se usa \".info\" para obener la cantidad de series contenidas con su  Dtype y mas información relevante del dataframe\n",
        "#Convertir serie date a tipo date\n",
        "import pandas as pd\n",
        "vacunas_pais= pd.read_csv(\"/content/drive/MyDrive/Colab Notebooks/country_vaccinations.csv\")\n",
        "vacunas_manu= pd.read_csv(\"/content/drive/MyDrive/Colab Notebooks/country_vaccinations_by_manufacturer.csv\")\n",
        "vacunas_manu[\"date\"]=vacunas_manu[\"date\"].astype(\"datetime64\")\n",
        "vacunas_manu.info()\n",
        "print(\"\\n\"\"\\n\"\"\\n\"\"\\n\")\n",
        "vacunas_pais[\"date\"]=vacunas_pais[\"date\"].astype(\"datetime64\")\n",
        "vacunas_pais.info()"
      ],
      "metadata": {
        "id": "GQvO9hEbSJ_O",
        "colab": {
          "base_uri": "https://localhost:8080/"
        },
        "outputId": "adff31b5-59bd-4ee9-ad6f-6305a05f128e"
      },
      "execution_count": 26,
      "outputs": [
        {
          "output_type": "stream",
          "name": "stdout",
          "text": [
            "<class 'pandas.core.frame.DataFrame'>\n",
            "RangeIndex: 35623 entries, 0 to 35622\n",
            "Data columns (total 4 columns):\n",
            " #   Column              Non-Null Count  Dtype         \n",
            "---  ------              --------------  -----         \n",
            " 0   location            35623 non-null  object        \n",
            " 1   date                35623 non-null  datetime64[ns]\n",
            " 2   vaccine             35623 non-null  object        \n",
            " 3   total_vaccinations  35623 non-null  int64         \n",
            "dtypes: datetime64[ns](1), int64(1), object(2)\n",
            "memory usage: 1.1+ MB\n",
            "\n",
            "\n",
            "\n",
            "\n",
            "\n",
            "<class 'pandas.core.frame.DataFrame'>\n",
            "RangeIndex: 86512 entries, 0 to 86511\n",
            "Data columns (total 15 columns):\n",
            " #   Column                               Non-Null Count  Dtype         \n",
            "---  ------                               --------------  -----         \n",
            " 0   country                              86512 non-null  object        \n",
            " 1   iso_code                             86512 non-null  object        \n",
            " 2   date                                 86512 non-null  datetime64[ns]\n",
            " 3   total_vaccinations                   43607 non-null  float64       \n",
            " 4   people_vaccinated                    41294 non-null  float64       \n",
            " 5   people_fully_vaccinated              38802 non-null  float64       \n",
            " 6   daily_vaccinations_raw               35362 non-null  float64       \n",
            " 7   daily_vaccinations                   86213 non-null  float64       \n",
            " 8   total_vaccinations_per_hundred       43607 non-null  float64       \n",
            " 9   people_vaccinated_per_hundred        41294 non-null  float64       \n",
            " 10  people_fully_vaccinated_per_hundred  38802 non-null  float64       \n",
            " 11  daily_vaccinations_per_million       86213 non-null  float64       \n",
            " 12  vaccines                             86512 non-null  object        \n",
            " 13  source_name                          86512 non-null  object        \n",
            " 14  source_website                       86512 non-null  object        \n",
            "dtypes: datetime64[ns](1), float64(9), object(5)\n",
            "memory usage: 9.9+ MB\n"
          ]
        }
      ]
    },
    {
      "cell_type": "markdown",
      "source": [
        "c. Determinar la cantidad de vacunas aplicadas de cada compañía (con base en cómo lo reporta cada país en la columna vaccine). "
      ],
      "metadata": {
        "id": "zD8jDCc_Na_P"
      }
    },
    {
      "cell_type": "code",
      "source": [
        "#Segun el autor en Kaggle se hizo una actualización en la que se crea un segundo archivo para identificar de mejor manera las vacunas por compañia; se añade linea para re ordenar de menor a mayor la cantidad de vacunas\n",
        "import pandas as pd\n",
        "vacunas_pais= pd.read_csv(\"/content/drive/MyDrive/Colab Notebooks/country_vaccinations.csv\")\n",
        "vacunas_manu= pd.read_csv(\"/content/drive/MyDrive/Colab Notebooks/country_vaccinations_by_manufacturer.csv\")\n",
        "\n",
        "\n",
        "vacunas= vacunas_manu.groupby(by=[\"vaccine\"],sort=True).sum([\"total_vaccinations\"]).reset_index()\n",
        "vacunas=vacunas.sort_values(by = [\"total_vaccinations\"], ascending=[True])\n",
        "\n",
        "print(vacunas)"
      ],
      "metadata": {
        "id": "AmgQFZIdPPXs",
        "colab": {
          "base_uri": "https://localhost:8080/"
        },
        "outputId": "d60dedba-b3bb-4514-fbda-08ce949b165a"
      },
      "execution_count": 21,
      "outputs": [
        {
          "output_type": "stream",
          "name": "stdout",
          "text": [
            "              vaccine  total_vaccinations\n",
            "1             Covaxin                3572\n",
            "4             Novavax             8268113\n",
            "0             CanSino           271397675\n",
            "9           Sputnik V          5787343199\n",
            "7   Sinopharm/Beijing         10877006517\n",
            "2     Johnson&Johnson         12611375881\n",
            "8             Sinovac         13407163275\n",
            "5  Oxford/AstraZeneca         46451509497\n",
            "3             Moderna        103072147621\n",
            "6     Pfizer/BioNTech        344835955037\n"
          ]
        }
      ]
    },
    {
      "cell_type": "markdown",
      "source": [
        "d. Obtener la cantidad de vacunas aplicadas en todo el mundo. "
      ],
      "metadata": {
        "id": "Mc66O5oFNrTf"
      }
    },
    {
      "cell_type": "code",
      "source": [
        "#Segun el autor en Kaggle \"total_vaccinations\" es el numero total de vacunas en el pais\n",
        "import pandas as pd\n",
        "vacunas_pais= pd.read_csv(\"/content/drive/MyDrive/Colab Notebooks/country_vaccinations.csv\")\n",
        "\n",
        "\n",
        "vacunas=vacunas_pais[\"total_vaccinations\"].sum()\n",
        "\n",
        "\n",
        "print(\"Total de vacunas aplicadas:\\n\",vacunas)"
      ],
      "metadata": {
        "id": "kRlc3rFhmPN0",
        "colab": {
          "base_uri": "https://localhost:8080/"
        },
        "outputId": "2ad87459-5ea5-461d-b7e7-dc5dadabbd0b"
      },
      "execution_count": 22,
      "outputs": [
        {
          "output_type": "stream",
          "name": "stdout",
          "text": [
            "Total de vacunas aplicadas:\n",
            " 2002854013761.0\n"
          ]
        }
      ]
    },
    {
      "cell_type": "markdown",
      "source": [
        "e. Calcular el promedio de vacunas aplicadas por país. "
      ],
      "metadata": {
        "id": "-YZP_EvZN0OV"
      }
    },
    {
      "cell_type": "code",
      "source": [
        "#Entender como promedio de vacunas aplicadas por país como; del total de la vacunas aplicadas, entre el total de paises del data frame \n",
        "import pandas as pd\n",
        "vacunas_pais= pd.read_csv(\"/content/drive/MyDrive/Colab Notebooks/country_vaccinations.csv\")\n",
        "\n",
        "total_vacunas_mundo= vacunas_pais[\"total_vaccinations\"].sum(axis=None, skipna=None, level=None, numeric_only=None, min_count=0)\n",
        "total_paises= vacunas_pais[\"country\"].nunique()\n",
        "\n",
        "promedio_pais= total_vacunas_mundo / total_paises\n",
        "\n",
        "print(\"En total se aplicaron:\\n\",total_vacunas_mundo,\"vacunas en el mundo\")\n",
        "print(\"De los cuales,\", total_paises,\"Paises fueron parte de esto y con un promedio de:\",promedio_pais,\"vacunas por país.\")\n",
        "\n",
        "total_registros= vacunas_pais[\"country\"].count()\n",
        "print(total_registros)\n"
      ],
      "metadata": {
        "colab": {
          "base_uri": "https://localhost:8080/"
        },
        "id": "9z25GQ5NFVPa",
        "outputId": "b1468b59-2546-4303-f535-889bf40ac14d"
      },
      "execution_count": null,
      "outputs": [
        {
          "output_type": "stream",
          "name": "stdout",
          "text": [
            "En total se aplicaron:\n",
            " 2002854013761.0 vacunas en el mundo\n",
            "De los cuales, 223 Paises fueron parte de esto y con un promedio de: 8981408133.4574 vacunas por país.\n",
            "86512\n"
          ]
        }
      ]
    },
    {
      "cell_type": "markdown",
      "source": [
        "f. Determinar la cantidad de vacunas aplicadas el día 29/01/21 en todo el mundo. "
      ],
      "metadata": {
        "id": "CegJ5WyeN1wL"
      }
    },
    {
      "cell_type": "code",
      "source": [
        "import pandas as pd\n",
        "vacunas_pais= pd.read_csv(\"/content/drive/MyDrive/Colab Notebooks/country_vaccinations.csv\")\n",
        "vacunas_pais[\"date\"]=vacunas_pais[\"date\"].astype(\"datetime64\")\n",
        "#Determinar la cantidad de vacunas por dia\n",
        "\n",
        "vacuna_filtro= vacunas_pais.loc[vacunas_pais[\"date\"]==\"29/01/21\"]\n",
        "vacunas_dia=vacuna_filtro[\"total_vaccinations\"].sum()\n",
        "print(\"El dia 29/01/2021 se aplicaron un total de: \\n\",vacunas_dia, \"vacunas\")"
      ],
      "metadata": {
        "colab": {
          "base_uri": "https://localhost:8080/"
        },
        "id": "E2etRn-GX-O1",
        "outputId": "51af6963-2b7f-4c4d-e69b-020fbf80de0c"
      },
      "execution_count": 23,
      "outputs": [
        {
          "output_type": "stream",
          "name": "stdout",
          "text": [
            "El dia 29/01/2021 se aplicaron un total de: \n",
            " 82952931.0 vacunas\n"
          ]
        }
      ]
    },
    {
      "cell_type": "markdown",
      "source": [
        "g. Crear un dataframe nuevo denominado conDiferencias que contenga los datos originales y una columna derivada (diferencias) con las diferencias de aplicación entre las columnas daily_vaccionations y daily_vaccinations_raw.  "
      ],
      "metadata": {
        "id": "V2vmC9ePN3aj"
      }
    },
    {
      "cell_type": "code",
      "source": [
        "import pandas as pd\n",
        "vacunas_pais= pd.read_csv(\"/content/drive/MyDrive/Colab Notebooks/country_vaccinations.csv\")\n",
        "vacunas_pais[\"date\"]=vacunas_pais[\"date\"].astype(\"datetime64\")\n",
        "#Agregar una columna \"diferencias\" y nuevo dataframe\n",
        "\n",
        "vacunas_pais[\"diferencias\"]= vacunas_pais[\"daily_vaccinations\"] - vacunas_pais[\"daily_vaccinations_raw\"]\n",
        "\n",
        "conDiferencias= vacunas_pais\n",
        "\n",
        "#Mostrar solo columnas de Pais, Fecha y  columnas involucradas (para limpiar el contenido)\n",
        "\n",
        "x=conDiferencias[\"diferencias\"].sum()\n",
        "print(\"Diferencia total entre  daily_vacinations vs daily_vaccinations_raw\",x, \"\\n\")\n",
        "print(conDiferencias[[\"country\", \"date\",\"daily_vaccinations\", \"daily_vaccinations_raw\", \"diferencias\"]])\n",
        "\n",
        "\n",
        "\n"
      ],
      "metadata": {
        "id": "kA6MU9Qs40L-"
      },
      "execution_count": null,
      "outputs": []
    },
    {
      "cell_type": "markdown",
      "source": [
        "h. Obtener el período de tiempo entre el registro con fecha más reciente y el registro con fecha más antigua. "
      ],
      "metadata": {
        "id": "0rWt7BrVN5We"
      }
    },
    {
      "cell_type": "code",
      "source": [
        "import pandas as pd\n",
        "vacunas_pais= pd.read_csv(\"/content/drive/MyDrive/Colab Notebooks/country_vaccinations.csv\")\n",
        "vacunas_pais[\"date\"]=vacunas_pais[\"date\"].astype(\"datetime64\")\n",
        "\n",
        "#Identificar cual es la fecha mas antigua y mas reciente\n",
        "\n",
        "dia_min=vacunas_pais[\"date\"].min()\n",
        "dia_max=vacunas_pais[\"date\"].max()\n",
        "\n",
        "diferencia=dia_max - dia_min\n",
        "\n",
        "print(\"el dia mas antigue es el: \\n\", dia_min,\"\\n el dia mas reciente es el: \\n\", dia_max,\"\\n Con una diferencia de:\\n\", diferencia, \"días\")\n",
        "\n",
        "\n"
      ],
      "metadata": {
        "id": "3W6fWlLhPafJ"
      },
      "execution_count": null,
      "outputs": []
    },
    {
      "cell_type": "markdown",
      "source": [
        "i. Crear un dataframe nuevo denominado conCantidad que contenga los datos originales y una columna derivada (canVac) con la cantidad de vacunas utilizadas cada día (usar la columna vaccines y separar por el carácter /). "
      ],
      "metadata": {
        "id": "F_qiQ88BN7hJ"
      }
    },
    {
      "cell_type": "code",
      "source": [
        "import pandas as pd\n",
        "vacunas_pais= pd.read_csv(\"/content/drive/MyDrive/Colab Notebooks/country_vaccinations.csv\")\n",
        "vacunas_pais[\"date\"]=vacunas_pais[\"date\"].astype(\"datetime64\")\n",
        "vacunas_pais[\"vaccines\"]=vacunas_pais[\"vaccines\"].astype(\"str\")\n",
        "vacunas_pais[\"total_vaccinations\"]=vacunas_pais[\"total_vaccinations\"].astype(\"str\")\n",
        "#Agregar una columna \"canVac\" y nuevo dataframe\n",
        "vacunas_pais[\"canVac\"] = vacunas_pais['vaccines'] + \" / \" + vacunas_pais[\"total_vaccinations\"] \n",
        "\n",
        "conCantidad= vacunas_pais\n",
        "\n",
        "print(conCantidad)\n",
        "\n",
        "\n"
      ],
      "metadata": {
        "id": "as2ChV2fjA0j"
      },
      "execution_count": null,
      "outputs": []
    },
    {
      "cell_type": "markdown",
      "source": [
        "j. Generar un dataframe denominado antes20 con todos los registros que se hayan realizado antes del 20 de diciembre de 2020. "
      ],
      "metadata": {
        "id": "rPTxJcHuN9VR"
      }
    },
    {
      "cell_type": "code",
      "source": [
        "import pandas as pd\n",
        "vacunas_pais= pd.read_csv(\"/content/drive/MyDrive/Colab Notebooks/country_vaccinations.csv\")\n",
        "vacunas_pais[\"date\"]=vacunas_pais[\"date\"].astype(\"datetime64\")\n",
        "#Determinar la cantidad de vacunas por dia\n",
        "\n",
        "antes20= vacunas_pais.loc[vacunas_pais[\"date\"]<=\"20/12/20\"]\n",
        "\n",
        "total_registros= vacuna_filtro[\"country\"].count()\n",
        "\n",
        "vacunas_dia=vacuna_filtro[\"total_vaccinations\"].sum()\n",
        "\n",
        "print(\"Total de regisistros:\\n\",total_registros, \"\\n\",\"Total de vacunas:\\n\",vacunas_dia, \"\\n\")\n",
        "\n",
        "print(antes20)"
      ],
      "metadata": {
        "id": "5EQ9gJmKpL8E"
      },
      "execution_count": null,
      "outputs": []
    },
    {
      "cell_type": "markdown",
      "source": [
        "k. Obtener un dataframe denominado pfizer con todos los registros donde se haya utilizado la vacuna Pfizer. "
      ],
      "metadata": {
        "id": "rlpYBwEbN-vL"
      }
    },
    {
      "cell_type": "code",
      "source": [
        "import pandas as pd\n",
        "vacunas_pais= pd.read_csv(\"/content/drive/MyDrive/Colab Notebooks/country_vaccinations.csv\")\n",
        "vacunas_pais[\"date\"]=vacunas_pais[\"date\"].astype(\"datetime64\")\n",
        "#Determinar la cantidad de vacunas por dia\n",
        "\n",
        "pfizer=vacunas_pais[vacunas_pais.vaccines.str.contains('Pfizer')]\n",
        "\n",
        "print(pfizer)"
      ],
      "metadata": {
        "id": "MGWYn9vcqmXX"
      },
      "execution_count": null,
      "outputs": []
    },
    {
      "cell_type": "markdown",
      "source": [
        "l. Almacenar los dataframes generados (conDiferencias, conCantidad, antes20 y pfizer) en un archivo de Excel denominado resultadosReto.xlsx, donde cada dataframe ocupe una hoja diferente. Se recomienda ver la documentación de pd.ExcelWriter. "
      ],
      "metadata": {
        "id": "f4iboBXZOAIN"
      }
    },
    {
      "cell_type": "code",
      "source": [
        "import pandas as pd\n",
        "vacunas_pais= pd.read_csv(\"/content/drive/MyDrive/Colab Notebooks/country_vaccinations.csv\")\n",
        "vacunas_pais[\"date\"]=vacunas_pais[\"date\"].astype(\"datetime64\")\n",
        "\n",
        "#conDiferencias\n",
        "vacunas_paisconDiferencias=vacunas_pais\n",
        "vacunas_paisconDiferencias[\"diferencias\"]= vacunas_paisconDiferencias[\"daily_vaccinations\"] - vacunas_paisconDiferencias[\"daily_vaccinations_raw\"]\n",
        "\n",
        "conDiferencias= vacunas_paisconDiferencias\n",
        "\n",
        "#conCantidad\n",
        "vacunas_paisconCantidad=vacunas_pais\n",
        "vacunas_paisconCantidad[\"vaccines\"]=vacunas_paisconCantidad[\"vaccines\"].astype(\"str\")\n",
        "vacunas_paisconCantidad[\"total_vaccinations\"]=vacunas_paisconCantidad[\"total_vaccinations\"].astype(\"str\")\n",
        "vacunas_paisconCantidad[\"canVac\"] = vacunas_paisconCantidad['vaccines'] + \" / \" + vacunas_paisconCantidad[\"total_vaccinations\"] \n",
        "\n",
        "conCantidad= vacunas_paisconCantidad\n",
        "\n",
        "\n",
        "#pfizer\n",
        "pfizer=vacunas_pais[vacunas_pais.vaccines.str.contains('Pfizer')]\n",
        "\n",
        "#antes20\n",
        "antes20= vacunas_pais.loc[vacunas_pais[\"date\"]<=\"20/12/20\"]\n",
        "\n",
        "\n",
        "\n",
        "with pd.ExcelWriter(\"/content/drive/MyDrive/Colab Notebooks/resultadosReto.xlsx\") as writer:\n",
        "    conDiferencias.to_excel(writer, sheet_name=\"conDiferencias\")\n",
        "    conCantidad.to_excel(writer, sheet_name=\"conCantidad\")\n",
        "    antes20.to_excel(writer, sheet_name=\"antes20\")\n",
        "    pfizer.to_excel(writer, sheet_name=\"pfizer\")"
      ],
      "metadata": {
        "id": "aNEHv7Ol09b6"
      },
      "execution_count": 67,
      "outputs": []
    }
  ]
}