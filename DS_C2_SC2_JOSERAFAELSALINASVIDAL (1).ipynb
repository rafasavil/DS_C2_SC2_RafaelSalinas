{
  "nbformat": 4,
  "nbformat_minor": 0,
  "metadata": {
    "colab": {
      "provenance": []
    },
    "kernelspec": {
      "name": "python3",
      "display_name": "Python 3"
    },
    "language_info": {
      "name": "python"
    }
  },
  "cells": [
    {
      "cell_type": "markdown",
      "source": [
        "Para completar la solución del reto deberás cumplir con todos los puntos listados a continuación:  "
      ],
      "metadata": {
        "id": "RLW4SZkrPJaX"
      }
    },
    {
      "cell_type": "markdown",
      "source": [
        "a. Extraer la información del archivo. "
      ],
      "metadata": {
        "id": "bikg6e2aO7Ph"
      }
    },
    {
      "cell_type": "code",
      "source": [
        "#Extracción de dataframes para visualizar vacunas por compañia y vacunas aplicadas desde Kaggle\n",
        "#Para extraer los datos usamos el framework de pandas y utilizamos \".read_csv\" para leer el data frame con el que trabajaremos se usa \".head\" para visualizar los primeros 5 registros\n",
        "import pandas as pd\n",
        "vacunas_pais= pd.read_csv(\"/content/drive/MyDrive/Colab Notebooks/country_vaccinations.csv\")\n",
        "vacunas_manu= pd.read_csv(\"/content/drive/MyDrive/Colab Notebooks/country_vaccinations_by_manufacturer.csv\")\n",
        "\n",
        "print(vacunas_manu.head(5))"
      ],
      "metadata": {
        "id": "zzesIoBgPPv8",
        "colab": {
          "base_uri": "https://localhost:8080/"
        },
        "outputId": "b8629f13-ea2a-4bbf-c303-84457988c8af"
      },
      "execution_count": 68,
      "outputs": [
        {
          "output_type": "stream",
          "name": "stdout",
          "text": [
            "    location        date             vaccine  total_vaccinations\n",
            "0  Argentina  2020-12-29             Moderna                   2\n",
            "1  Argentina  2020-12-29  Oxford/AstraZeneca                   3\n",
            "2  Argentina  2020-12-29   Sinopharm/Beijing                   1\n",
            "3  Argentina  2020-12-29           Sputnik V               20481\n",
            "4  Argentina  2020-12-30             Moderna                   2\n"
          ]
        }
      ]
    },
    {
      "cell_type": "markdown",
      "source": [
        "b. Mostrar la estructura y tipos de datos de cada columna para identificar qué operaciones puedes realizar con cada una de ellas, asegurándote que las columnas con fechas sean del tipo datetime64. "
      ],
      "metadata": {
        "id": "o5cIx8tGR_6p"
      }
    },
    {
      "cell_type": "code",
      "source": [
        "#Se entiende por estructura a las series que componen el data frame; se usa \".info\" para obener la cantidad de series contenidas con su  Dtype y mas información relevante del dataframe\n",
        "#Convertir serie date a tipo date\n",
        "import pandas as pd\n",
        "vacunas_pais= pd.read_csv(\"/content/drive/MyDrive/Colab Notebooks/country_vaccinations.csv\")\n",
        "vacunas_manu= pd.read_csv(\"/content/drive/MyDrive/Colab Notebooks/country_vaccinations_by_manufacturer.csv\")\n",
        "vacunas_manu[\"date\"]=vacunas_manu[\"date\"].astype(\"datetime64\")\n",
        "vacunas_manu.info()\n",
        "print(\"\\n\"\"\\n\"\"\\n\"\"\\n\")\n",
        "vacunas_pais[\"date\"]=vacunas_pais[\"date\"].astype(\"datetime64\")\n",
        "vacunas_pais.info()"
      ],
      "metadata": {
        "id": "GQvO9hEbSJ_O",
        "colab": {
          "base_uri": "https://localhost:8080/"
        },
        "outputId": "c6a6ed01-a472-4d13-e345-1f51f0c209a5"
      },
      "execution_count": 69,
      "outputs": [
        {
          "output_type": "stream",
          "name": "stdout",
          "text": [
            "<class 'pandas.core.frame.DataFrame'>\n",
            "RangeIndex: 35623 entries, 0 to 35622\n",
            "Data columns (total 4 columns):\n",
            " #   Column              Non-Null Count  Dtype         \n",
            "---  ------              --------------  -----         \n",
            " 0   location            35623 non-null  object        \n",
            " 1   date                35623 non-null  datetime64[ns]\n",
            " 2   vaccine             35623 non-null  object        \n",
            " 3   total_vaccinations  35623 non-null  int64         \n",
            "dtypes: datetime64[ns](1), int64(1), object(2)\n",
            "memory usage: 1.1+ MB\n",
            "\n",
            "\n",
            "\n",
            "\n",
            "\n",
            "<class 'pandas.core.frame.DataFrame'>\n",
            "RangeIndex: 86512 entries, 0 to 86511\n",
            "Data columns (total 15 columns):\n",
            " #   Column                               Non-Null Count  Dtype         \n",
            "---  ------                               --------------  -----         \n",
            " 0   country                              86512 non-null  object        \n",
            " 1   iso_code                             86512 non-null  object        \n",
            " 2   date                                 86512 non-null  datetime64[ns]\n",
            " 3   total_vaccinations                   43607 non-null  float64       \n",
            " 4   people_vaccinated                    41294 non-null  float64       \n",
            " 5   people_fully_vaccinated              38802 non-null  float64       \n",
            " 6   daily_vaccinations_raw               35362 non-null  float64       \n",
            " 7   daily_vaccinations                   86213 non-null  float64       \n",
            " 8   total_vaccinations_per_hundred       43607 non-null  float64       \n",
            " 9   people_vaccinated_per_hundred        41294 non-null  float64       \n",
            " 10  people_fully_vaccinated_per_hundred  38802 non-null  float64       \n",
            " 11  daily_vaccinations_per_million       86213 non-null  float64       \n",
            " 12  vaccines                             86512 non-null  object        \n",
            " 13  source_name                          86512 non-null  object        \n",
            " 14  source_website                       86512 non-null  object        \n",
            "dtypes: datetime64[ns](1), float64(9), object(5)\n",
            "memory usage: 9.9+ MB\n"
          ]
        }
      ]
    },
    {
      "cell_type": "markdown",
      "source": [
        "c. Determinar la cantidad de vacunas aplicadas de cada compañía (con base en cómo lo reporta cada país en la columna vaccine). "
      ],
      "metadata": {
        "id": "zD8jDCc_Na_P"
      }
    },
    {
      "cell_type": "code",
      "source": [
        "#Segun el autor en Kaggle se hizo una actualización en la que se crea un segundo archivo para identificar de mejor manera las vacunas por compañia; se añade linea para re ordenar de menor a mayor la cantidad de vacunas\n",
        "import pandas as pd\n",
        "vacunas_pais= pd.read_csv(\"/content/drive/MyDrive/Colab Notebooks/country_vaccinations.csv\")\n",
        "vacunas_manu= pd.read_csv(\"/content/drive/MyDrive/Colab Notebooks/country_vaccinations_by_manufacturer.csv\")\n",
        "\n",
        "\n",
        "vacunas= vacunas_manu.groupby(by=[\"vaccine\"],sort=True).sum([\"total_vaccinations\"]).reset_index()\n",
        "vacunas=vacunas.sort_values(by = [\"total_vaccinations\"], ascending=[True])\n",
        "\n",
        "print(vacunas)"
      ],
      "metadata": {
        "id": "AmgQFZIdPPXs",
        "colab": {
          "base_uri": "https://localhost:8080/"
        },
        "outputId": "9dbd06c2-23b4-492a-e958-f2b098109a63"
      },
      "execution_count": 70,
      "outputs": [
        {
          "output_type": "stream",
          "name": "stdout",
          "text": [
            "              vaccine  total_vaccinations\n",
            "1             Covaxin                3572\n",
            "4             Novavax             8268113\n",
            "0             CanSino           271397675\n",
            "9           Sputnik V          5787343199\n",
            "7   Sinopharm/Beijing         10877006517\n",
            "2     Johnson&Johnson         12611375881\n",
            "8             Sinovac         13407163275\n",
            "5  Oxford/AstraZeneca         46451509497\n",
            "3             Moderna        103072147621\n",
            "6     Pfizer/BioNTech        344835955037\n"
          ]
        }
      ]
    },
    {
      "cell_type": "markdown",
      "source": [
        "d. Obtener la cantidad de vacunas aplicadas en todo el mundo. "
      ],
      "metadata": {
        "id": "Mc66O5oFNrTf"
      }
    },
    {
      "cell_type": "code",
      "source": [
        "#Segun el autor en Kaggle \"total_vaccinations\" es el numero total de vacunas en el pais\n",
        "import pandas as pd\n",
        "vacunas_pais= pd.read_csv(\"/content/drive/MyDrive/Colab Notebooks/country_vaccinations.csv\")\n",
        "\n",
        "\n",
        "vacunas=vacunas_pais[\"total_vaccinations\"].sum()\n",
        "\n",
        "\n",
        "print(\"Total de vacunas aplicadas:\\n\",vacunas)"
      ],
      "metadata": {
        "id": "kRlc3rFhmPN0",
        "colab": {
          "base_uri": "https://localhost:8080/"
        },
        "outputId": "c67180a9-87b2-4622-f671-6b0cc666fd10"
      },
      "execution_count": 71,
      "outputs": [
        {
          "output_type": "stream",
          "name": "stdout",
          "text": [
            "Total de vacunas aplicadas:\n",
            " 2002854013761.0\n"
          ]
        }
      ]
    },
    {
      "cell_type": "markdown",
      "source": [
        "e. Calcular el promedio de vacunas aplicadas por país. "
      ],
      "metadata": {
        "id": "-YZP_EvZN0OV"
      }
    },
    {
      "cell_type": "code",
      "source": [
        "#Entender como promedio de vacunas aplicadas por país como; del total de la vacunas aplicadas, entre el total de paises del data frame \n",
        "import pandas as pd\n",
        "vacunas_pais= pd.read_csv(\"/content/drive/MyDrive/Colab Notebooks/country_vaccinations.csv\")\n",
        "\n",
        "total_vacunas_mundo= vacunas_pais[\"total_vaccinations\"].sum(axis=None, skipna=None, level=None, numeric_only=None, min_count=0)\n",
        "total_paises= vacunas_pais[\"country\"].nunique()\n",
        "\n",
        "promedio_pais= total_vacunas_mundo / total_paises\n",
        "\n",
        "print(\"En total se aplicaron:\\n\",total_vacunas_mundo,\"vacunas en el mundo\")\n",
        "print(\"De los cuales,\", total_paises,\"Paises fueron parte de esto y con un promedio de:\",promedio_pais,\"vacunas por país.\")\n",
        "\n",
        "total_registros= vacunas_pais[\"country\"].count()\n",
        "print(total_registros)\n"
      ],
      "metadata": {
        "colab": {
          "base_uri": "https://localhost:8080/"
        },
        "id": "9z25GQ5NFVPa",
        "outputId": "3b515058-8031-4cc7-8a31-a13fcf84423b"
      },
      "execution_count": 72,
      "outputs": [
        {
          "output_type": "stream",
          "name": "stdout",
          "text": [
            "En total se aplicaron:\n",
            " 2002854013761.0 vacunas en el mundo\n",
            "De los cuales, 223 Paises fueron parte de esto y con un promedio de: 8981408133.4574 vacunas por país.\n",
            "86512\n"
          ]
        }
      ]
    },
    {
      "cell_type": "markdown",
      "source": [
        "f. Determinar la cantidad de vacunas aplicadas el día 29/01/21 en todo el mundo. "
      ],
      "metadata": {
        "id": "CegJ5WyeN1wL"
      }
    },
    {
      "cell_type": "code",
      "source": [
        "import pandas as pd\n",
        "vacunas_pais= pd.read_csv(\"/content/drive/MyDrive/Colab Notebooks/country_vaccinations.csv\")\n",
        "vacunas_pais[\"date\"]=vacunas_pais[\"date\"].astype(\"datetime64\")\n",
        "#Determinar la cantidad de vacunas por dia\n",
        "\n",
        "vacuna_filtro= vacunas_pais.loc[vacunas_pais[\"date\"]==\"29/01/21\"]\n",
        "vacunas_dia=vacuna_filtro[\"total_vaccinations\"].sum()\n",
        "print(\"El dia 29/01/2021 se aplicaron un total de: \\n\",vacunas_dia, \"vacunas\")"
      ],
      "metadata": {
        "colab": {
          "base_uri": "https://localhost:8080/"
        },
        "id": "E2etRn-GX-O1",
        "outputId": "d272e2bf-c9ef-4fc5-c30a-ebde83859bc2"
      },
      "execution_count": 73,
      "outputs": [
        {
          "output_type": "stream",
          "name": "stdout",
          "text": [
            "El dia 29/01/2021 se aplicaron un total de: \n",
            " 82952931.0 vacunas\n"
          ]
        }
      ]
    },
    {
      "cell_type": "markdown",
      "source": [
        "g. Crear un dataframe nuevo denominado conDiferencias que contenga los datos originales y una columna derivada (diferencias) con las diferencias de aplicación entre las columnas daily_vaccionations y daily_vaccinations_raw.  "
      ],
      "metadata": {
        "id": "V2vmC9ePN3aj"
      }
    },
    {
      "cell_type": "code",
      "source": [
        "import pandas as pd\n",
        "vacunas_pais= pd.read_csv(\"/content/drive/MyDrive/Colab Notebooks/country_vaccinations.csv\")\n",
        "vacunas_pais[\"date\"]=vacunas_pais[\"date\"].astype(\"datetime64\")\n",
        "#Agregar una columna \"diferencias\" y nuevo dataframe\n",
        "\n",
        "vacunas_pais[\"diferencias\"]= vacunas_pais[\"daily_vaccinations\"] - vacunas_pais[\"daily_vaccinations_raw\"]\n",
        "\n",
        "conDiferencias= vacunas_pais\n",
        "\n",
        "#Mostrar solo columnas de Pais, Fecha y  columnas involucradas (para limpiar el contenido)\n",
        "\n",
        "x=conDiferencias[\"diferencias\"].sum()\n",
        "print(\"Diferencia total entre  daily_vacinations vs daily_vaccinations_raw\",x, \"\\n\")\n",
        "print(conDiferencias[[\"country\", \"date\",\"daily_vaccinations\", \"daily_vaccinations_raw\", \"diferencias\"]])\n",
        "\n",
        "\n",
        "\n"
      ],
      "metadata": {
        "id": "kA6MU9Qs40L-",
        "colab": {
          "base_uri": "https://localhost:8080/"
        },
        "outputId": "1588811e-03d8-4075-fc89-a04100c1c5f3"
      },
      "execution_count": 74,
      "outputs": [
        {
          "output_type": "stream",
          "name": "stdout",
          "text": [
            "Diferencia total entre  daily_vacinations vs daily_vaccinations_raw -159242255.0 \n",
            "\n",
            "           country       date  daily_vaccinations  daily_vaccinations_raw  \\\n",
            "0      Afghanistan 2021-02-22                 NaN                     NaN   \n",
            "1      Afghanistan 2021-02-23              1367.0                     NaN   \n",
            "2      Afghanistan 2021-02-24              1367.0                     NaN   \n",
            "3      Afghanistan 2021-02-25              1367.0                     NaN   \n",
            "4      Afghanistan 2021-02-26              1367.0                     NaN   \n",
            "...            ...        ...                 ...                     ...   \n",
            "86507     Zimbabwe 2022-03-25             69579.0                139213.0   \n",
            "86508     Zimbabwe 2022-03-26             83429.0                100086.0   \n",
            "86509     Zimbabwe 2022-03-27             90629.0                 53311.0   \n",
            "86510     Zimbabwe 2022-03-28            100614.0                 89321.0   \n",
            "86511     Zimbabwe 2022-03-29            103751.0                105369.0   \n",
            "\n",
            "       diferencias  \n",
            "0              NaN  \n",
            "1              NaN  \n",
            "2              NaN  \n",
            "3              NaN  \n",
            "4              NaN  \n",
            "...            ...  \n",
            "86507     -69634.0  \n",
            "86508     -16657.0  \n",
            "86509      37318.0  \n",
            "86510      11293.0  \n",
            "86511      -1618.0  \n",
            "\n",
            "[86512 rows x 5 columns]\n"
          ]
        }
      ]
    },
    {
      "cell_type": "markdown",
      "source": [
        "h. Obtener el período de tiempo entre el registro con fecha más reciente y el registro con fecha más antigua. "
      ],
      "metadata": {
        "id": "0rWt7BrVN5We"
      }
    },
    {
      "cell_type": "code",
      "source": [
        "import pandas as pd\n",
        "vacunas_pais= pd.read_csv(\"/content/drive/MyDrive/Colab Notebooks/country_vaccinations.csv\")\n",
        "vacunas_pais[\"date\"]=vacunas_pais[\"date\"].astype(\"datetime64\")\n",
        "\n",
        "#Identificar cual es la fecha mas antigua y mas reciente\n",
        "\n",
        "dia_min=vacunas_pais[\"date\"].min()\n",
        "dia_max=vacunas_pais[\"date\"].max()\n",
        "\n",
        "diferencia=dia_max - dia_min\n",
        "\n",
        "print(\"el dia mas antigue es el: \\n\", dia_min,\"\\n el dia mas reciente es el: \\n\", dia_max,\"\\n Con una diferencia de:\\n\", diferencia, \"días\")\n",
        "\n",
        "\n"
      ],
      "metadata": {
        "colab": {
          "base_uri": "https://localhost:8080/"
        },
        "id": "3W6fWlLhPafJ",
        "outputId": "0d4d3a91-bd22-4007-d44b-91089403a1e9"
      },
      "execution_count": 75,
      "outputs": [
        {
          "output_type": "stream",
          "name": "stdout",
          "text": [
            "el dia mas antigue es el: \n",
            " 2020-12-02 00:00:00 \n",
            " el dia mas reciente es el: \n",
            " 2022-03-29 00:00:00 \n",
            " Con una diferencia de:\n",
            " 482 days 00:00:00 días\n"
          ]
        }
      ]
    },
    {
      "cell_type": "markdown",
      "source": [
        "i. Crear un dataframe nuevo denominado conCantidad que contenga los datos originales y una columna derivada (canVac) con la cantidad de vacunas utilizadas cada día (usar la columna vaccines y separar por el carácter /). "
      ],
      "metadata": {
        "id": "F_qiQ88BN7hJ"
      }
    },
    {
      "cell_type": "code",
      "source": [
        "import pandas as pd\n",
        "vacunas_pais= pd.read_csv(\"/content/drive/MyDrive/Colab Notebooks/country_vaccinations.csv\")\n",
        "vacunas_pais[\"date\"]=vacunas_pais[\"date\"].astype(\"datetime64\")\n",
        "vacunas_pais[\"vaccines\"]=vacunas_pais[\"vaccines\"].astype(\"str\")\n",
        "vacunas_pais[\"total_vaccinations\"]=vacunas_pais[\"total_vaccinations\"].astype(\"str\")\n",
        "#Agregar una columna \"canVac\" y nuevo dataframe\n",
        "vacunas_pais[\"canVac\"] = vacunas_pais['vaccines'] + \" / \" + vacunas_pais[\"total_vaccinations\"] \n",
        "\n",
        "conCantidad= vacunas_pais\n",
        "\n",
        "print(conCantidad)\n",
        "\n",
        "\n"
      ],
      "metadata": {
        "colab": {
          "base_uri": "https://localhost:8080/"
        },
        "id": "as2ChV2fjA0j",
        "outputId": "1b1f82cd-2c5a-423e-d058-1f8dcc678ad3"
      },
      "execution_count": 76,
      "outputs": [
        {
          "output_type": "stream",
          "name": "stdout",
          "text": [
            "           country iso_code       date total_vaccinations  people_vaccinated  \\\n",
            "0      Afghanistan      AFG 2021-02-22                0.0                0.0   \n",
            "1      Afghanistan      AFG 2021-02-23                nan                NaN   \n",
            "2      Afghanistan      AFG 2021-02-24                nan                NaN   \n",
            "3      Afghanistan      AFG 2021-02-25                nan                NaN   \n",
            "4      Afghanistan      AFG 2021-02-26                nan                NaN   \n",
            "...            ...      ...        ...                ...                ...   \n",
            "86507     Zimbabwe      ZWE 2022-03-25          8691642.0          4814582.0   \n",
            "86508     Zimbabwe      ZWE 2022-03-26          8791728.0          4886242.0   \n",
            "86509     Zimbabwe      ZWE 2022-03-27          8845039.0          4918147.0   \n",
            "86510     Zimbabwe      ZWE 2022-03-28          8934360.0          4975433.0   \n",
            "86511     Zimbabwe      ZWE 2022-03-29          9039729.0          5053114.0   \n",
            "\n",
            "       people_fully_vaccinated  daily_vaccinations_raw  daily_vaccinations  \\\n",
            "0                          NaN                     NaN                 NaN   \n",
            "1                          NaN                     NaN              1367.0   \n",
            "2                          NaN                     NaN              1367.0   \n",
            "3                          NaN                     NaN              1367.0   \n",
            "4                          NaN                     NaN              1367.0   \n",
            "...                        ...                     ...                 ...   \n",
            "86507                3473523.0                139213.0             69579.0   \n",
            "86508                3487962.0                100086.0             83429.0   \n",
            "86509                3493763.0                 53311.0             90629.0   \n",
            "86510                3501493.0                 89321.0            100614.0   \n",
            "86511                3510256.0                105369.0            103751.0   \n",
            "\n",
            "       total_vaccinations_per_hundred  people_vaccinated_per_hundred  \\\n",
            "0                                0.00                           0.00   \n",
            "1                                 NaN                            NaN   \n",
            "2                                 NaN                            NaN   \n",
            "3                                 NaN                            NaN   \n",
            "4                                 NaN                            NaN   \n",
            "...                               ...                            ...   \n",
            "86507                           57.59                          31.90   \n",
            "86508                           58.25                          32.38   \n",
            "86509                           58.61                          32.59   \n",
            "86510                           59.20                          32.97   \n",
            "86511                           59.90                          33.48   \n",
            "\n",
            "       people_fully_vaccinated_per_hundred  daily_vaccinations_per_million  \\\n",
            "0                                      NaN                             NaN   \n",
            "1                                      NaN                            34.0   \n",
            "2                                      NaN                            34.0   \n",
            "3                                      NaN                            34.0   \n",
            "4                                      NaN                            34.0   \n",
            "...                                    ...                             ...   \n",
            "86507                                23.02                          4610.0   \n",
            "86508                                23.11                          5528.0   \n",
            "86509                                23.15                          6005.0   \n",
            "86510                                23.20                          6667.0   \n",
            "86511                                23.26                          6874.0   \n",
            "\n",
            "                                                vaccines  \\\n",
            "0      Johnson&Johnson, Oxford/AstraZeneca, Pfizer/Bi...   \n",
            "1      Johnson&Johnson, Oxford/AstraZeneca, Pfizer/Bi...   \n",
            "2      Johnson&Johnson, Oxford/AstraZeneca, Pfizer/Bi...   \n",
            "3      Johnson&Johnson, Oxford/AstraZeneca, Pfizer/Bi...   \n",
            "4      Johnson&Johnson, Oxford/AstraZeneca, Pfizer/Bi...   \n",
            "...                                                  ...   \n",
            "86507  Oxford/AstraZeneca, Sinopharm/Beijing, Sinovac...   \n",
            "86508  Oxford/AstraZeneca, Sinopharm/Beijing, Sinovac...   \n",
            "86509  Oxford/AstraZeneca, Sinopharm/Beijing, Sinovac...   \n",
            "86510  Oxford/AstraZeneca, Sinopharm/Beijing, Sinovac...   \n",
            "86511  Oxford/AstraZeneca, Sinopharm/Beijing, Sinovac...   \n",
            "\n",
            "                     source_name  \\\n",
            "0      World Health Organization   \n",
            "1      World Health Organization   \n",
            "2      World Health Organization   \n",
            "3      World Health Organization   \n",
            "4      World Health Organization   \n",
            "...                          ...   \n",
            "86507         Ministry of Health   \n",
            "86508         Ministry of Health   \n",
            "86509         Ministry of Health   \n",
            "86510         Ministry of Health   \n",
            "86511         Ministry of Health   \n",
            "\n",
            "                                          source_website  \\\n",
            "0                               https://covid19.who.int/   \n",
            "1                               https://covid19.who.int/   \n",
            "2                               https://covid19.who.int/   \n",
            "3                               https://covid19.who.int/   \n",
            "4                               https://covid19.who.int/   \n",
            "...                                                  ...   \n",
            "86507  https://www.arcgis.com/home/webmap/viewer.html...   \n",
            "86508  https://www.arcgis.com/home/webmap/viewer.html...   \n",
            "86509  https://www.arcgis.com/home/webmap/viewer.html...   \n",
            "86510  https://www.arcgis.com/home/webmap/viewer.html...   \n",
            "86511  https://www.arcgis.com/home/webmap/viewer.html...   \n",
            "\n",
            "                                                  canVac  \n",
            "0      Johnson&Johnson, Oxford/AstraZeneca, Pfizer/Bi...  \n",
            "1      Johnson&Johnson, Oxford/AstraZeneca, Pfizer/Bi...  \n",
            "2      Johnson&Johnson, Oxford/AstraZeneca, Pfizer/Bi...  \n",
            "3      Johnson&Johnson, Oxford/AstraZeneca, Pfizer/Bi...  \n",
            "4      Johnson&Johnson, Oxford/AstraZeneca, Pfizer/Bi...  \n",
            "...                                                  ...  \n",
            "86507  Oxford/AstraZeneca, Sinopharm/Beijing, Sinovac...  \n",
            "86508  Oxford/AstraZeneca, Sinopharm/Beijing, Sinovac...  \n",
            "86509  Oxford/AstraZeneca, Sinopharm/Beijing, Sinovac...  \n",
            "86510  Oxford/AstraZeneca, Sinopharm/Beijing, Sinovac...  \n",
            "86511  Oxford/AstraZeneca, Sinopharm/Beijing, Sinovac...  \n",
            "\n",
            "[86512 rows x 16 columns]\n"
          ]
        }
      ]
    },
    {
      "cell_type": "markdown",
      "source": [
        "j. Generar un dataframe denominado antes20 con todos los registros que se hayan realizado antes del 20 de diciembre de 2020. "
      ],
      "metadata": {
        "id": "rPTxJcHuN9VR"
      }
    },
    {
      "cell_type": "code",
      "source": [
        "import pandas as pd\n",
        "vacunas_pais= pd.read_csv(\"/content/drive/MyDrive/Colab Notebooks/country_vaccinations.csv\")\n",
        "vacunas_pais[\"date\"]=vacunas_pais[\"date\"].astype(\"datetime64\")\n",
        "#Determinar la cantidad de vacunas por dia\n",
        "\n",
        "antes20= vacunas_pais.loc[vacunas_pais[\"date\"]<=\"20/12/20\"]\n",
        "\n",
        "total_registros= vacuna_filtro[\"country\"].count()\n",
        "\n",
        "vacunas_dia=vacuna_filtro[\"total_vaccinations\"].sum()\n",
        "\n",
        "print(\"Total de regisistros:\\n\",total_registros, \"\\n\",\"Total de vacunas:\\n\",vacunas_dia, \"\\n\")\n",
        "\n",
        "print(antes20)"
      ],
      "metadata": {
        "colab": {
          "base_uri": "https://localhost:8080/"
        },
        "id": "5EQ9gJmKpL8E",
        "outputId": "576ff724-9c23-4b4e-c15b-fd1dae5b0b77"
      },
      "execution_count": 77,
      "outputs": [
        {
          "output_type": "stream",
          "name": "stdout",
          "text": [
            "Total de regisistros:\n",
            " 83 \n",
            " Total de vacunas:\n",
            " 82952931.0 \n",
            "\n",
            "             country iso_code       date  total_vaccinations  \\\n",
            "13403         Canada      CAN 2020-12-14                 5.0   \n",
            "13404         Canada      CAN 2020-12-15               727.0   \n",
            "13405         Canada      CAN 2020-12-16              3025.0   \n",
            "13406         Canada      CAN 2020-12-17              7279.0   \n",
            "13407         Canada      CAN 2020-12-18             11296.0   \n",
            "...              ...      ...        ...                 ...   \n",
            "82363  United States      USA 2020-12-16            244549.0   \n",
            "82364  United States      USA 2020-12-17            517161.0   \n",
            "82365  United States      USA 2020-12-18            933551.0   \n",
            "82366  United States      USA 2020-12-19           1115437.0   \n",
            "82367  United States      USA 2020-12-20           1220766.0   \n",
            "\n",
            "       people_vaccinated  people_fully_vaccinated  daily_vaccinations_raw  \\\n",
            "13403                5.0                      NaN                     NaN   \n",
            "13404              727.0                      NaN                   722.0   \n",
            "13405             3025.0                      NaN                  2298.0   \n",
            "13406             7279.0                      NaN                  4254.0   \n",
            "13407            11296.0                      NaN                  4017.0   \n",
            "...                  ...                      ...                     ...   \n",
            "82363           231496.0                   6757.0                159911.0   \n",
            "82364           496980.0                   7507.0                272612.0   \n",
            "82365           904656.0                   8718.0                416390.0   \n",
            "82366          1082608.0                   9778.0                181886.0   \n",
            "82367          1185990.0                  10490.0                105329.0   \n",
            "\n",
            "       daily_vaccinations  total_vaccinations_per_hundred  \\\n",
            "13403                 NaN                            0.00   \n",
            "13404               722.0                            0.00   \n",
            "13405              1510.0                            0.01   \n",
            "13406              2425.0                            0.02   \n",
            "13407              2823.0                            0.03   \n",
            "...                   ...                             ...   \n",
            "82363             71420.0                            0.07   \n",
            "82364            121718.0                            0.16   \n",
            "82365            180653.0                            0.28   \n",
            "82366            180858.0                            0.34   \n",
            "82367            170068.0                            0.37   \n",
            "\n",
            "       people_vaccinated_per_hundred  people_fully_vaccinated_per_hundred  \\\n",
            "13403                           0.00                                  NaN   \n",
            "13404                           0.00                                  NaN   \n",
            "13405                           0.01                                  NaN   \n",
            "13406                           0.02                                  NaN   \n",
            "13407                           0.03                                  NaN   \n",
            "...                              ...                                  ...   \n",
            "82363                           0.07                                  0.0   \n",
            "82364                           0.15                                  0.0   \n",
            "82365                           0.27                                  0.0   \n",
            "82366                           0.33                                  0.0   \n",
            "82367                           0.36                                  0.0   \n",
            "\n",
            "       daily_vaccinations_per_million  \\\n",
            "13403                             NaN   \n",
            "13404                            19.0   \n",
            "13405                            40.0   \n",
            "13406                            64.0   \n",
            "13407                            74.0   \n",
            "...                               ...   \n",
            "82363                           215.0   \n",
            "82364                           367.0   \n",
            "82365                           544.0   \n",
            "82366                           545.0   \n",
            "82367                           512.0   \n",
            "\n",
            "                                                vaccines  \\\n",
            "13403  Johnson&Johnson, Moderna, Oxford/AstraZeneca, ...   \n",
            "13404  Johnson&Johnson, Moderna, Oxford/AstraZeneca, ...   \n",
            "13405  Johnson&Johnson, Moderna, Oxford/AstraZeneca, ...   \n",
            "13406  Johnson&Johnson, Moderna, Oxford/AstraZeneca, ...   \n",
            "13407  Johnson&Johnson, Moderna, Oxford/AstraZeneca, ...   \n",
            "...                                                  ...   \n",
            "82363          Johnson&Johnson, Moderna, Pfizer/BioNTech   \n",
            "82364          Johnson&Johnson, Moderna, Pfizer/BioNTech   \n",
            "82365          Johnson&Johnson, Moderna, Pfizer/BioNTech   \n",
            "82366          Johnson&Johnson, Moderna, Pfizer/BioNTech   \n",
            "82367          Johnson&Johnson, Moderna, Pfizer/BioNTech   \n",
            "\n",
            "                                             source_name  \\\n",
            "13403  Official data from provinces via covid19tracke...   \n",
            "13404  Official data from provinces via covid19tracke...   \n",
            "13405  Official data from provinces via covid19tracke...   \n",
            "13406  Official data from provinces via covid19tracke...   \n",
            "13407  Official data from provinces via covid19tracke...   \n",
            "...                                                  ...   \n",
            "82363         Centers for Disease Control and Prevention   \n",
            "82364         Centers for Disease Control and Prevention   \n",
            "82365         Centers for Disease Control and Prevention   \n",
            "82366         Centers for Disease Control and Prevention   \n",
            "82367         Centers for Disease Control and Prevention   \n",
            "\n",
            "                                          source_website  \n",
            "13403  https://covid19tracker.ca/vaccinationtracker.html  \n",
            "13404  https://covid19tracker.ca/vaccinationtracker.html  \n",
            "13405  https://covid19tracker.ca/vaccinationtracker.html  \n",
            "13406  https://covid19tracker.ca/vaccinationtracker.html  \n",
            "13407  https://covid19tracker.ca/vaccinationtracker.html  \n",
            "...                                                  ...  \n",
            "82363  https://data.cdc.gov/Vaccinations/COVID-19-Vac...  \n",
            "82364  https://data.cdc.gov/Vaccinations/COVID-19-Vac...  \n",
            "82365  https://data.cdc.gov/Vaccinations/COVID-19-Vac...  \n",
            "82366  https://data.cdc.gov/Vaccinations/COVID-19-Vac...  \n",
            "82367  https://data.cdc.gov/Vaccinations/COVID-19-Vac...  \n",
            "\n",
            "[78 rows x 15 columns]\n"
          ]
        }
      ]
    },
    {
      "cell_type": "markdown",
      "source": [
        "k. Obtener un dataframe denominado pfizer con todos los registros donde se haya utilizado la vacuna Pfizer. "
      ],
      "metadata": {
        "id": "rlpYBwEbN-vL"
      }
    },
    {
      "cell_type": "code",
      "source": [
        "import pandas as pd\n",
        "vacunas_pais= pd.read_csv(\"/content/drive/MyDrive/Colab Notebooks/country_vaccinations.csv\")\n",
        "vacunas_pais[\"date\"]=vacunas_pais[\"date\"].astype(\"datetime64\")\n",
        "#Determinar la cantidad de vacunas por dia\n",
        "\n",
        "pfizer=vacunas_pais[vacunas_pais.vaccines.str.contains('Pfizer')]\n",
        "\n",
        "print(pfizer)"
      ],
      "metadata": {
        "colab": {
          "base_uri": "https://localhost:8080/"
        },
        "id": "MGWYn9vcqmXX",
        "outputId": "203859f2-e1a7-459f-a6a1-4aa531b1c981"
      },
      "execution_count": 78,
      "outputs": [
        {
          "output_type": "stream",
          "name": "stdout",
          "text": [
            "           country  iso_code       date  total_vaccinations  \\\n",
            "0      Afghanistan       AFG 2021-02-22                 0.0   \n",
            "1      Afghanistan       AFG 2021-02-23                 NaN   \n",
            "2      Afghanistan       AFG 2021-02-24                 NaN   \n",
            "3      Afghanistan       AFG 2021-02-25                 NaN   \n",
            "4      Afghanistan       AFG 2021-02-26                 NaN   \n",
            "...            ...       ...        ...                 ...   \n",
            "85069        Wales  OWID_WLS 2022-03-24           6921195.0   \n",
            "85070        Wales  OWID_WLS 2022-03-25           6923298.0   \n",
            "85071        Wales  OWID_WLS 2022-03-26           6923706.0   \n",
            "85072        Wales  OWID_WLS 2022-03-27           6925183.0   \n",
            "85073        Wales  OWID_WLS 2022-03-28           6927437.0   \n",
            "\n",
            "       people_vaccinated  people_fully_vaccinated  daily_vaccinations_raw  \\\n",
            "0                    0.0                      NaN                     NaN   \n",
            "1                    NaN                      NaN                     NaN   \n",
            "2                    NaN                      NaN                     NaN   \n",
            "3                    NaN                      NaN                     NaN   \n",
            "4                    NaN                      NaN                     NaN   \n",
            "...                  ...                      ...                     ...   \n",
            "85069          2526832.0                2397677.0                  1756.0   \n",
            "85070          2527100.0                2398097.0                  2103.0   \n",
            "85071          2527184.0                2398322.0                   408.0   \n",
            "85072          2528051.0                2398676.0                  1477.0   \n",
            "85073          2528664.0                2399341.0                  2254.0   \n",
            "\n",
            "       daily_vaccinations  total_vaccinations_per_hundred  \\\n",
            "0                     NaN                            0.00   \n",
            "1                  1367.0                             NaN   \n",
            "2                  1367.0                             NaN   \n",
            "3                  1367.0                             NaN   \n",
            "4                  1367.0                             NaN   \n",
            "...                   ...                             ...   \n",
            "85069              1705.0                          218.33   \n",
            "85070              1667.0                          218.40   \n",
            "85071              1519.0                          218.41   \n",
            "85072              1505.0                          218.46   \n",
            "85073              1609.0                          218.53   \n",
            "\n",
            "       people_vaccinated_per_hundred  people_fully_vaccinated_per_hundred  \\\n",
            "0                               0.00                                  NaN   \n",
            "1                                NaN                                  NaN   \n",
            "2                                NaN                                  NaN   \n",
            "3                                NaN                                  NaN   \n",
            "4                                NaN                                  NaN   \n",
            "...                              ...                                  ...   \n",
            "85069                          79.71                                75.64   \n",
            "85070                          79.72                                75.65   \n",
            "85071                          79.72                                75.66   \n",
            "85072                          79.75                                75.67   \n",
            "85073                          79.77                                75.69   \n",
            "\n",
            "       daily_vaccinations_per_million  \\\n",
            "0                                 NaN   \n",
            "1                                34.0   \n",
            "2                                34.0   \n",
            "3                                34.0   \n",
            "4                                34.0   \n",
            "...                               ...   \n",
            "85069                           538.0   \n",
            "85070                           526.0   \n",
            "85071                           479.0   \n",
            "85072                           475.0   \n",
            "85073                           508.0   \n",
            "\n",
            "                                                vaccines  \\\n",
            "0      Johnson&Johnson, Oxford/AstraZeneca, Pfizer/Bi...   \n",
            "1      Johnson&Johnson, Oxford/AstraZeneca, Pfizer/Bi...   \n",
            "2      Johnson&Johnson, Oxford/AstraZeneca, Pfizer/Bi...   \n",
            "3      Johnson&Johnson, Oxford/AstraZeneca, Pfizer/Bi...   \n",
            "4      Johnson&Johnson, Oxford/AstraZeneca, Pfizer/Bi...   \n",
            "...                                                  ...   \n",
            "85069       Moderna, Oxford/AstraZeneca, Pfizer/BioNTech   \n",
            "85070       Moderna, Oxford/AstraZeneca, Pfizer/BioNTech   \n",
            "85071       Moderna, Oxford/AstraZeneca, Pfizer/BioNTech   \n",
            "85072       Moderna, Oxford/AstraZeneca, Pfizer/BioNTech   \n",
            "85073       Moderna, Oxford/AstraZeneca, Pfizer/BioNTech   \n",
            "\n",
            "                            source_name  \\\n",
            "0             World Health Organization   \n",
            "1             World Health Organization   \n",
            "2             World Health Organization   \n",
            "3             World Health Organization   \n",
            "4             World Health Organization   \n",
            "...                                 ...   \n",
            "85069  Government of the United Kingdom   \n",
            "85070  Government of the United Kingdom   \n",
            "85071  Government of the United Kingdom   \n",
            "85072  Government of the United Kingdom   \n",
            "85073  Government of the United Kingdom   \n",
            "\n",
            "                                          source_website  \n",
            "0                               https://covid19.who.int/  \n",
            "1                               https://covid19.who.int/  \n",
            "2                               https://covid19.who.int/  \n",
            "3                               https://covid19.who.int/  \n",
            "4                               https://covid19.who.int/  \n",
            "...                                                  ...  \n",
            "85069  https://coronavirus.data.gov.uk/details/vaccin...  \n",
            "85070  https://coronavirus.data.gov.uk/details/vaccin...  \n",
            "85071  https://coronavirus.data.gov.uk/details/vaccin...  \n",
            "85072  https://coronavirus.data.gov.uk/details/vaccin...  \n",
            "85073  https://coronavirus.data.gov.uk/details/vaccin...  \n",
            "\n",
            "[64193 rows x 15 columns]\n"
          ]
        }
      ]
    },
    {
      "cell_type": "markdown",
      "source": [
        "l. Almacenar los dataframes generados (conDiferencias, conCantidad, antes20 y pfizer) en un archivo de Excel denominado resultadosReto.xlsx, donde cada dataframe ocupe una hoja diferente. Se recomienda ver la documentación de pd.ExcelWriter. "
      ],
      "metadata": {
        "id": "f4iboBXZOAIN"
      }
    },
    {
      "cell_type": "code",
      "source": [
        "import pandas as pd\n",
        "vacunas_pais= pd.read_csv(\"/content/drive/MyDrive/Colab Notebooks/country_vaccinations.csv\")\n",
        "vacunas_pais[\"date\"]=vacunas_pais[\"date\"].astype(\"datetime64\")\n",
        "\n",
        "#conDiferencias\n",
        "vacunas_paisconDiferencias=vacunas_pais\n",
        "vacunas_paisconDiferencias[\"diferencias\"]= vacunas_paisconDiferencias[\"daily_vaccinations\"] - vacunas_paisconDiferencias[\"daily_vaccinations_raw\"]\n",
        "\n",
        "conDiferencias= vacunas_paisconDiferencias\n",
        "\n",
        "#conCantidad\n",
        "vacunas_paisconCantidad=vacunas_pais\n",
        "vacunas_paisconCantidad[\"vaccines\"]=vacunas_paisconCantidad[\"vaccines\"].astype(\"str\")\n",
        "vacunas_paisconCantidad[\"total_vaccinations\"]=vacunas_paisconCantidad[\"total_vaccinations\"].astype(\"str\")\n",
        "vacunas_paisconCantidad[\"canVac\"] = vacunas_paisconCantidad['vaccines'] + \" / \" + vacunas_paisconCantidad[\"total_vaccinations\"] \n",
        "\n",
        "conCantidad= vacunas_paisconCantidad\n",
        "\n",
        "\n",
        "#pfizer\n",
        "pfizer=vacunas_pais[vacunas_pais.vaccines.str.contains('Pfizer')]\n",
        "\n",
        "#antes20\n",
        "antes20= vacunas_pais.loc[vacunas_pais[\"date\"]<=\"20/12/20\"]\n",
        "\n",
        "\n",
        "\n",
        "with pd.ExcelWriter(\"/content/drive/MyDrive/Colab Notebooks/resultadosReto.xlsx\") as writer:\n",
        "    conDiferencias.to_excel(writer, sheet_name=\"conDiferencias\")\n",
        "    conCantidad.to_excel(writer, sheet_name=\"conCantidad\")\n",
        "    antes20.to_excel(writer, sheet_name=\"antes20\")\n",
        "    pfizer.to_excel(writer, sheet_name=\"pfizer\")"
      ],
      "metadata": {
        "id": "aNEHv7Ol09b6"
      },
      "execution_count": null,
      "outputs": []
    }
  ]
}